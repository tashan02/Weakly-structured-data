{
 "cells": [
  {
   "cell_type": "code",
   "execution_count": 6,
   "metadata": {},
   "outputs": [
    {
     "name": "stdout",
     "output_type": "stream",
     "text": [
      "[]\n",
      "[]\n"
     ]
    }
   ],
   "source": [
    "from dataclasses import dataclass\n",
    "import yaml\n",
    "\n",
    "@dataclass\n",
    "class Argument:\n",
    "    name: str\n",
    "    value: str\n",
    "\n",
    "@dataclass\n",
    "class Artifact:\n",
    "    name: str\n",
    "    path: str\n",
    "\n",
    "@dataclass\n",
    "class ArgumentsArtifacts:\n",
    "    arguments: list\n",
    "    artifacts: list\n",
    "\n",
    "def parse_yaml_file(file_path):\n",
    "    with open(file_path, 'r') as file:\n",
    "        data = yaml.safe_load(file)\n",
    "    \n",
    "    arguments = [Argument(name=arg['name'], value=arg['value']) for arg in data.get('arguments', [])]\n",
    "    artifacts = [Artifact(name=art['name'], path=art['path']) for art in data.get('artifacts', [])]\n",
    "    \n",
    "    return ArgumentsArtifacts(arguments=arguments, artifacts=artifacts)\n",
    "\n",
    "def build_time_series_graph(data):\n",
    "    # Реализация построения графика временного ряда\n",
    "    pass\n",
    "\n",
    "# Пример использования\n",
    "yaml_file_path = 'C:/Users/Пользователь/Desktop/Слабо структурированные данные/arguments-artifacts.yaml'\n",
    "parsed_data = parse_yaml_file(yaml_file_path)\n",
    "\n",
    "# Вывод данных\n",
    "print(parsed_data.arguments)\n",
    "print(parsed_data.artifacts)\n",
    "\n",
    "# Построение графика временного ряда\n",
    "build_time_series_graph(parsed_data)\n"
   ]
  }
 ],
 "metadata": {
  "kernelspec": {
   "display_name": "Python 3",
   "language": "python",
   "name": "python3"
  },
  "language_info": {
   "codemirror_mode": {
    "name": "ipython",
    "version": 3
   },
   "file_extension": ".py",
   "mimetype": "text/x-python",
   "name": "python",
   "nbconvert_exporter": "python",
   "pygments_lexer": "ipython3",
   "version": "3.11.6"
  }
 },
 "nbformat": 4,
 "nbformat_minor": 2
}
